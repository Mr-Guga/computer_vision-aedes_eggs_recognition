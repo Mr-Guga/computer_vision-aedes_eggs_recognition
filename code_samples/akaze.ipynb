{
 "cells": [
  {
   "cell_type": "code",
   "execution_count": 1,
   "metadata": {},
   "outputs": [
    {
     "data": {
      "text/plain": [
       "'4.1.0'"
      ]
     },
     "execution_count": 1,
     "metadata": {},
     "output_type": "execute_result"
    }
   ],
   "source": [
    "# from _future_ import print_function\n",
    "import cv2 as cv\n",
    "\n",
    "cv.__version__"
   ]
  },
  {
   "cell_type": "code",
   "execution_count": 4,
   "metadata": {},
   "outputs": [
    {
     "name": "stdout",
     "output_type": "stream",
     "text": [
      "keypoints: 1, descriptors: (1, 61)\n",
      "keypoints: 979, descriptors: (979, 61)\n",
      "Good =  []\n"
     ]
    },
    {
     "data": {
      "text/plain": [
       "True"
      ]
     },
     "execution_count": 4,
     "metadata": {},
     "output_type": "execute_result"
    }
   ],
   "source": [
    "def kaze_match(im1_path, im2_path):\n",
    "    # load the image and convert it to grayscale\n",
    "    im1 = cv.imread(im1_path, cv.IMREAD_GRAYSCALE)\n",
    "    im2 = cv.imread(im2_path, cv.IMREAD_GRAYSCALE)\n",
    "\n",
    "    detector = cv.AKAZE_create()\n",
    "    (kps1, descs1) = detector.detectAndCompute(im1, None)\n",
    "    (kps2, descs2) = detector.detectAndCompute(im2, None)\n",
    "\n",
    "    print(\"keypoints: {}, descriptors: {}\".format(len(kps1), descs1.shape))\n",
    "    print(\"keypoints: {}, descriptors: {}\".format(len(kps2), descs2.shape))    \n",
    "\n",
    "    bf = cv.BFMatcher(cv.NORM_HAMMING)\n",
    "    matches = bf.knnMatch(descs1,descs2, k=2)\n",
    "\n",
    "    # Apply ratio test\n",
    "    # R = 0.9\n",
    "    r = 0.5\n",
    "    good = []\n",
    "    for m,n in matches:\n",
    "        if m.distance < r * n.distance:\n",
    "            good.append([m])\n",
    "            \n",
    "    print(\"Good = \", good)\n",
    "    im3 = cv.drawMatchesKnn(im1, kps1, im2, kps2, good, None, flags=2)\n",
    "    return im3\n",
    "    \n",
    "cv.imwrite(\"../assets/result/aedes_out.jpg\", \n",
    "           kaze_match('../assets/images/aedes_template.jpg', '../assets/images/aedes2.jpg'))\n",
    "\n"
   ]
  },
  {
   "cell_type": "code",
   "execution_count": null,
   "metadata": {},
   "outputs": [],
   "source": []
  }
 ],
 "metadata": {
  "kernelspec": {
   "display_name": "Python 3",
   "language": "python",
   "name": "python3"
  },
  "language_info": {
   "codemirror_mode": {
    "name": "ipython",
    "version": 3
   },
   "file_extension": ".py",
   "mimetype": "text/x-python",
   "name": "python",
   "nbconvert_exporter": "python",
   "pygments_lexer": "ipython3",
   "version": "3.6.8"
  }
 },
 "nbformat": 4,
 "nbformat_minor": 2
}
